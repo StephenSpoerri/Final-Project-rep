{
 "cells": [
  {
   "cell_type": "code",
   "execution_count": 1,
   "id": "e3921e04",
   "metadata": {},
   "outputs": [
    {
     "data": {
      "text/html": [
       "<div>\n",
       "<style scoped>\n",
       "    .dataframe tbody tr th:only-of-type {\n",
       "        vertical-align: middle;\n",
       "    }\n",
       "\n",
       "    .dataframe tbody tr th {\n",
       "        vertical-align: top;\n",
       "    }\n",
       "\n",
       "    .dataframe thead th {\n",
       "        text-align: right;\n",
       "    }\n",
       "</style>\n",
       "<table border=\"1\" class=\"dataframe\">\n",
       "  <thead>\n",
       "    <tr style=\"text-align: right;\">\n",
       "      <th></th>\n",
       "      <th>YEAR</th>\n",
       "      <th>AGE</th>\n",
       "      <th>NETWORTH</th>\n",
       "    </tr>\n",
       "  </thead>\n",
       "  <tbody>\n",
       "    <tr>\n",
       "      <th>count</th>\n",
       "      <td>238880.000000</td>\n",
       "      <td>238880.000000</td>\n",
       "      <td>2.388800e+05</td>\n",
       "    </tr>\n",
       "    <tr>\n",
       "      <th>mean</th>\n",
       "      <td>2004.196542</td>\n",
       "      <td>50.961232</td>\n",
       "      <td>9.378397e+06</td>\n",
       "    </tr>\n",
       "    <tr>\n",
       "      <th>std</th>\n",
       "      <td>8.523608</td>\n",
       "      <td>16.219296</td>\n",
       "      <td>5.050908e+07</td>\n",
       "    </tr>\n",
       "    <tr>\n",
       "      <th>min</th>\n",
       "      <td>1989.000000</td>\n",
       "      <td>17.000000</td>\n",
       "      <td>-2.340803e+08</td>\n",
       "    </tr>\n",
       "    <tr>\n",
       "      <th>25%</th>\n",
       "      <td>1998.000000</td>\n",
       "      <td>39.000000</td>\n",
       "      <td>2.322932e+04</td>\n",
       "    </tr>\n",
       "    <tr>\n",
       "      <th>50%</th>\n",
       "      <td>2004.000000</td>\n",
       "      <td>50.000000</td>\n",
       "      <td>2.080907e+05</td>\n",
       "    </tr>\n",
       "    <tr>\n",
       "      <th>75%</th>\n",
       "      <td>2013.000000</td>\n",
       "      <td>63.000000</td>\n",
       "      <td>1.351380e+06</td>\n",
       "    </tr>\n",
       "    <tr>\n",
       "      <th>max</th>\n",
       "      <td>2016.000000</td>\n",
       "      <td>95.000000</td>\n",
       "      <td>2.928346e+09</td>\n",
       "    </tr>\n",
       "  </tbody>\n",
       "</table>\n",
       "</div>"
      ],
      "text/plain": [
       "                YEAR            AGE      NETWORTH\n",
       "count  238880.000000  238880.000000  2.388800e+05\n",
       "mean     2004.196542      50.961232  9.378397e+06\n",
       "std         8.523608      16.219296  5.050908e+07\n",
       "min      1989.000000      17.000000 -2.340803e+08\n",
       "25%      1998.000000      39.000000  2.322932e+04\n",
       "50%      2004.000000      50.000000  2.080907e+05\n",
       "75%      2013.000000      63.000000  1.351380e+06\n",
       "max      2016.000000      95.000000  2.928346e+09"
      ]
     },
     "execution_count": 1,
     "metadata": {},
     "output_type": "execute_result"
    }
   ],
   "source": [
    "import pandas as pd\n",
    "import matplotlib\n",
    "import matplotlib.pyplot as plt\n",
    "import math\n",
    "import numpy as np\n",
    "import statsmodels.api as sm\n",
    "file = 'fatty.csv'\n",
    "df = pd.read_csv(file)\n",
    "df.head()\n",
    "df.describe()\n",
    "#imports file + describes file"
   ]
  },
  {
   "cell_type": "code",
   "execution_count": 2,
   "id": "2b0fa089",
   "metadata": {},
   "outputs": [
    {
     "name": "stdout",
     "output_type": "stream",
     "text": [
      "1989 1992\n"
     ]
    }
   ],
   "source": [
    "df['YEAR'] = pd.to_numeric(df['YEAR'])\n",
    "after_50_df = df[df['YEAR'] >= 1989]\n",
    "after_50_before_60_df = after_50_df[after_50_df['YEAR']<1993]\n",
    "min_year = after_50_before_60_df['YEAR'].min()\n",
    "max_year = after_50_before_60_df['YEAR'].max()\n",
    "print(min_year, max_year)\n",
    "#sorting year"
   ]
  },
  {
   "cell_type": "code",
   "execution_count": 3,
   "id": "11c503f0",
   "metadata": {},
   "outputs": [
    {
     "name": "stdout",
     "output_type": "stream",
     "text": [
      "18 22\n"
     ]
    }
   ],
   "source": [
    "df['AGE'] = pd.to_numeric(df['AGE'])\n",
    "low_age = df[df['AGE'] >= 18]\n",
    "low_age_high_age = low_age[low_age['AGE']<=22]\n",
    "min_year = low_age_high_age['AGE'].min()\n",
    "max_year = low_age_high_age['AGE'].max()\n",
    "print(min_year, max_year)\n",
    "#sorts age"
   ]
  },
  {
   "cell_type": "code",
   "execution_count": 15,
   "id": "6e23a2cd",
   "metadata": {},
   "outputs": [
    {
     "name": "stdout",
     "output_type": "stream",
     "text": [
      "['YEAR', 'AGE', 'NETWORTH']\n",
      "4884\n",
      "3\n"
     ]
    },
    {
     "data": {
      "text/html": [
       "<div>\n",
       "<style scoped>\n",
       "    .dataframe tbody tr th:only-of-type {\n",
       "        vertical-align: middle;\n",
       "    }\n",
       "\n",
       "    .dataframe tbody tr th {\n",
       "        vertical-align: top;\n",
       "    }\n",
       "\n",
       "    .dataframe thead th {\n",
       "        text-align: right;\n",
       "    }\n",
       "</style>\n",
       "<table border=\"1\" class=\"dataframe\">\n",
       "  <thead>\n",
       "    <tr style=\"text-align: right;\">\n",
       "      <th></th>\n",
       "      <th>YEAR</th>\n",
       "      <th>AGE</th>\n",
       "      <th>NETWORTH</th>\n",
       "    </tr>\n",
       "  </thead>\n",
       "  <tbody>\n",
       "    <tr>\n",
       "      <th>50</th>\n",
       "      <td>1989</td>\n",
       "      <td>21</td>\n",
       "      <td>0.0</td>\n",
       "    </tr>\n",
       "    <tr>\n",
       "      <th>51</th>\n",
       "      <td>1989</td>\n",
       "      <td>21</td>\n",
       "      <td>0.0</td>\n",
       "    </tr>\n",
       "    <tr>\n",
       "      <th>52</th>\n",
       "      <td>1989</td>\n",
       "      <td>21</td>\n",
       "      <td>0.0</td>\n",
       "    </tr>\n",
       "    <tr>\n",
       "      <th>53</th>\n",
       "      <td>1989</td>\n",
       "      <td>21</td>\n",
       "      <td>0.0</td>\n",
       "    </tr>\n",
       "    <tr>\n",
       "      <th>54</th>\n",
       "      <td>1989</td>\n",
       "      <td>21</td>\n",
       "      <td>0.0</td>\n",
       "    </tr>\n",
       "  </tbody>\n",
       "</table>\n",
       "</div>"
      ],
      "text/plain": [
       "    YEAR  AGE  NETWORTH\n",
       "50  1989   21       0.0\n",
       "51  1989   21       0.0\n",
       "52  1989   21       0.0\n",
       "53  1989   21       0.0\n",
       "54  1989   21       0.0"
      ]
     },
     "execution_count": 15,
     "metadata": {},
     "output_type": "execute_result"
    }
   ],
   "source": [
    "print(list(low_age_high_age))\n",
    "print(len(low_age_high_age))\n",
    "print(len(list(low_age_high_age)))\n",
    "low_age_high_age.head()\n",
    "#age data"
   ]
  },
  {
   "cell_type": "code",
   "execution_count": 5,
   "id": "e4ef6e3c",
   "metadata": {},
   "outputs": [
    {
     "name": "stdout",
     "output_type": "stream",
     "text": [
      "['YEAR', 'AGE', 'NETWORTH']\n",
      "35245\n",
      "3\n"
     ]
    }
   ],
   "source": [
    "print(list(after_50_before_60_df))\n",
    "print(len(after_50_before_60_df))\n",
    "print(len(list(after_50_before_60_df)))\n",
    "#prints info abouyt data"
   ]
  },
  {
   "cell_type": "code",
   "execution_count": 6,
   "id": "73cb8239",
   "metadata": {},
   "outputs": [
    {
     "data": {
      "text/html": [
       "<div>\n",
       "<style scoped>\n",
       "    .dataframe tbody tr th:only-of-type {\n",
       "        vertical-align: middle;\n",
       "    }\n",
       "\n",
       "    .dataframe tbody tr th {\n",
       "        vertical-align: top;\n",
       "    }\n",
       "\n",
       "    .dataframe thead th {\n",
       "        text-align: right;\n",
       "    }\n",
       "</style>\n",
       "<table border=\"1\" class=\"dataframe\">\n",
       "  <thead>\n",
       "    <tr style=\"text-align: right;\">\n",
       "      <th></th>\n",
       "      <th>YEAR</th>\n",
       "      <th>AGE</th>\n",
       "      <th>NETWORTH</th>\n",
       "    </tr>\n",
       "  </thead>\n",
       "  <tbody>\n",
       "    <tr>\n",
       "      <th>count</th>\n",
       "      <td>4884.000000</td>\n",
       "      <td>4884.000000</td>\n",
       "      <td>4.884000e+03</td>\n",
       "    </tr>\n",
       "    <tr>\n",
       "      <th>mean</th>\n",
       "      <td>2003.651106</td>\n",
       "      <td>20.763718</td>\n",
       "      <td>7.120479e+04</td>\n",
       "    </tr>\n",
       "    <tr>\n",
       "      <th>std</th>\n",
       "      <td>8.222727</td>\n",
       "      <td>1.174977</td>\n",
       "      <td>9.027431e+05</td>\n",
       "    </tr>\n",
       "    <tr>\n",
       "      <th>min</th>\n",
       "      <td>1989.000000</td>\n",
       "      <td>18.000000</td>\n",
       "      <td>-2.219350e+05</td>\n",
       "    </tr>\n",
       "    <tr>\n",
       "      <th>25%</th>\n",
       "      <td>1998.000000</td>\n",
       "      <td>20.000000</td>\n",
       "      <td>-3.018700e+02</td>\n",
       "    </tr>\n",
       "    <tr>\n",
       "      <th>50%</th>\n",
       "      <td>2004.000000</td>\n",
       "      <td>21.000000</td>\n",
       "      <td>3.203595e+03</td>\n",
       "    </tr>\n",
       "    <tr>\n",
       "      <th>75%</th>\n",
       "      <td>2010.000000</td>\n",
       "      <td>22.000000</td>\n",
       "      <td>1.417123e+04</td>\n",
       "    </tr>\n",
       "    <tr>\n",
       "      <th>max</th>\n",
       "      <td>2016.000000</td>\n",
       "      <td>22.000000</td>\n",
       "      <td>2.398071e+07</td>\n",
       "    </tr>\n",
       "  </tbody>\n",
       "</table>\n",
       "</div>"
      ],
      "text/plain": [
       "              YEAR          AGE      NETWORTH\n",
       "count  4884.000000  4884.000000  4.884000e+03\n",
       "mean   2003.651106    20.763718  7.120479e+04\n",
       "std       8.222727     1.174977  9.027431e+05\n",
       "min    1989.000000    18.000000 -2.219350e+05\n",
       "25%    1998.000000    20.000000 -3.018700e+02\n",
       "50%    2004.000000    21.000000  3.203595e+03\n",
       "75%    2010.000000    22.000000  1.417123e+04\n",
       "max    2016.000000    22.000000  2.398071e+07"
      ]
     },
     "execution_count": 6,
     "metadata": {},
     "output_type": "execute_result"
    }
   ],
   "source": [
    "low_age_high_age.describe()\n",
    "#describes data "
   ]
  },
  {
   "cell_type": "code",
   "execution_count": 7,
   "id": "291dad75",
   "metadata": {},
   "outputs": [
    {
     "data": {
      "text/html": [
       "<div>\n",
       "<style scoped>\n",
       "    .dataframe tbody tr th:only-of-type {\n",
       "        vertical-align: middle;\n",
       "    }\n",
       "\n",
       "    .dataframe tbody tr th {\n",
       "        vertical-align: top;\n",
       "    }\n",
       "\n",
       "    .dataframe thead th {\n",
       "        text-align: right;\n",
       "    }\n",
       "</style>\n",
       "<table border=\"1\" class=\"dataframe\">\n",
       "  <thead>\n",
       "    <tr style=\"text-align: right;\">\n",
       "      <th></th>\n",
       "      <th>YEAR</th>\n",
       "      <th>AGE</th>\n",
       "      <th>NETWORTH</th>\n",
       "    </tr>\n",
       "  </thead>\n",
       "  <tbody>\n",
       "    <tr>\n",
       "      <th>count</th>\n",
       "      <td>35245.000000</td>\n",
       "      <td>35245.000000</td>\n",
       "      <td>3.524500e+04</td>\n",
       "    </tr>\n",
       "    <tr>\n",
       "      <th>mean</th>\n",
       "      <td>1990.662363</td>\n",
       "      <td>50.470279</td>\n",
       "      <td>5.843459e+06</td>\n",
       "    </tr>\n",
       "    <tr>\n",
       "      <th>std</th>\n",
       "      <td>1.491208</td>\n",
       "      <td>16.427610</td>\n",
       "      <td>3.499148e+07</td>\n",
       "    </tr>\n",
       "    <tr>\n",
       "      <th>min</th>\n",
       "      <td>1989.000000</td>\n",
       "      <td>18.000000</td>\n",
       "      <td>-3.965421e+07</td>\n",
       "    </tr>\n",
       "    <tr>\n",
       "      <th>25%</th>\n",
       "      <td>1989.000000</td>\n",
       "      <td>37.000000</td>\n",
       "      <td>3.417866e+04</td>\n",
       "    </tr>\n",
       "    <tr>\n",
       "      <th>50%</th>\n",
       "      <td>1992.000000</td>\n",
       "      <td>49.000000</td>\n",
       "      <td>2.104130e+05</td>\n",
       "    </tr>\n",
       "    <tr>\n",
       "      <th>75%</th>\n",
       "      <td>1992.000000</td>\n",
       "      <td>63.000000</td>\n",
       "      <td>1.280911e+06</td>\n",
       "    </tr>\n",
       "    <tr>\n",
       "      <th>max</th>\n",
       "      <td>1992.000000</td>\n",
       "      <td>95.000000</td>\n",
       "      <td>2.928346e+09</td>\n",
       "    </tr>\n",
       "  </tbody>\n",
       "</table>\n",
       "</div>"
      ],
      "text/plain": [
       "               YEAR           AGE      NETWORTH\n",
       "count  35245.000000  35245.000000  3.524500e+04\n",
       "mean    1990.662363     50.470279  5.843459e+06\n",
       "std        1.491208     16.427610  3.499148e+07\n",
       "min     1989.000000     18.000000 -3.965421e+07\n",
       "25%     1989.000000     37.000000  3.417866e+04\n",
       "50%     1992.000000     49.000000  2.104130e+05\n",
       "75%     1992.000000     63.000000  1.280911e+06\n",
       "max     1992.000000     95.000000  2.928346e+09"
      ]
     },
     "execution_count": 7,
     "metadata": {},
     "output_type": "execute_result"
    }
   ],
   "source": [
    "after_50_before_60_df.describe()\n",
    "#describes the data"
   ]
  },
  {
   "cell_type": "code",
   "execution_count": 8,
   "id": "0ee9889d",
   "metadata": {},
   "outputs": [
    {
     "data": {
      "text/html": [
       "<div>\n",
       "<style scoped>\n",
       "    .dataframe tbody tr th:only-of-type {\n",
       "        vertical-align: middle;\n",
       "    }\n",
       "\n",
       "    .dataframe tbody tr th {\n",
       "        vertical-align: top;\n",
       "    }\n",
       "\n",
       "    .dataframe thead th {\n",
       "        text-align: right;\n",
       "    }\n",
       "</style>\n",
       "<table border=\"1\" class=\"dataframe\">\n",
       "  <thead>\n",
       "    <tr style=\"text-align: right;\">\n",
       "      <th></th>\n",
       "      <th>YEAR</th>\n",
       "      <th>AGE</th>\n",
       "      <th>NETWORTH</th>\n",
       "    </tr>\n",
       "  </thead>\n",
       "  <tbody>\n",
       "    <tr>\n",
       "      <th>0</th>\n",
       "      <td>1989</td>\n",
       "      <td>35</td>\n",
       "      <td>2201.71</td>\n",
       "    </tr>\n",
       "    <tr>\n",
       "      <th>1</th>\n",
       "      <td>1989</td>\n",
       "      <td>35</td>\n",
       "      <td>2406.96</td>\n",
       "    </tr>\n",
       "    <tr>\n",
       "      <th>2</th>\n",
       "      <td>1989</td>\n",
       "      <td>35</td>\n",
       "      <td>2033.79</td>\n",
       "    </tr>\n",
       "    <tr>\n",
       "      <th>3</th>\n",
       "      <td>1989</td>\n",
       "      <td>35</td>\n",
       "      <td>2052.45</td>\n",
       "    </tr>\n",
       "    <tr>\n",
       "      <th>4</th>\n",
       "      <td>1989</td>\n",
       "      <td>35</td>\n",
       "      <td>2257.69</td>\n",
       "    </tr>\n",
       "  </tbody>\n",
       "</table>\n",
       "</div>"
      ],
      "text/plain": [
       "   YEAR  AGE  NETWORTH\n",
       "0  1989   35   2201.71\n",
       "1  1989   35   2406.96\n",
       "2  1989   35   2033.79\n",
       "3  1989   35   2052.45\n",
       "4  1989   35   2257.69"
      ]
     },
     "execution_count": 8,
     "metadata": {},
     "output_type": "execute_result"
    }
   ],
   "source": [
    "#first 5 terms of data\n",
    "after_50_before_60_df.head()"
   ]
  },
  {
   "cell_type": "code",
   "execution_count": 9,
   "id": "41fac4f3",
   "metadata": {},
   "outputs": [
    {
     "data": {
      "text/html": [
       "<div>\n",
       "<style scoped>\n",
       "    .dataframe tbody tr th:only-of-type {\n",
       "        vertical-align: middle;\n",
       "    }\n",
       "\n",
       "    .dataframe tbody tr th {\n",
       "        vertical-align: top;\n",
       "    }\n",
       "\n",
       "    .dataframe thead th {\n",
       "        text-align: right;\n",
       "    }\n",
       "</style>\n",
       "<table border=\"1\" class=\"dataframe\">\n",
       "  <thead>\n",
       "    <tr style=\"text-align: right;\">\n",
       "      <th></th>\n",
       "      <th>YEAR</th>\n",
       "      <th>AGE</th>\n",
       "      <th>NETWORTH</th>\n",
       "    </tr>\n",
       "  </thead>\n",
       "  <tbody>\n",
       "    <tr>\n",
       "      <th>count</th>\n",
       "      <td>35245.000000</td>\n",
       "      <td>35245.000000</td>\n",
       "      <td>3.524500e+04</td>\n",
       "    </tr>\n",
       "    <tr>\n",
       "      <th>mean</th>\n",
       "      <td>1990.662363</td>\n",
       "      <td>50.470279</td>\n",
       "      <td>5.843459e+06</td>\n",
       "    </tr>\n",
       "    <tr>\n",
       "      <th>std</th>\n",
       "      <td>1.491208</td>\n",
       "      <td>16.427610</td>\n",
       "      <td>3.499148e+07</td>\n",
       "    </tr>\n",
       "    <tr>\n",
       "      <th>min</th>\n",
       "      <td>1989.000000</td>\n",
       "      <td>18.000000</td>\n",
       "      <td>-3.965421e+07</td>\n",
       "    </tr>\n",
       "    <tr>\n",
       "      <th>25%</th>\n",
       "      <td>1989.000000</td>\n",
       "      <td>37.000000</td>\n",
       "      <td>3.417866e+04</td>\n",
       "    </tr>\n",
       "    <tr>\n",
       "      <th>50%</th>\n",
       "      <td>1992.000000</td>\n",
       "      <td>49.000000</td>\n",
       "      <td>2.104130e+05</td>\n",
       "    </tr>\n",
       "    <tr>\n",
       "      <th>75%</th>\n",
       "      <td>1992.000000</td>\n",
       "      <td>63.000000</td>\n",
       "      <td>1.280911e+06</td>\n",
       "    </tr>\n",
       "    <tr>\n",
       "      <th>max</th>\n",
       "      <td>1992.000000</td>\n",
       "      <td>95.000000</td>\n",
       "      <td>2.928346e+09</td>\n",
       "    </tr>\n",
       "  </tbody>\n",
       "</table>\n",
       "</div>"
      ],
      "text/plain": [
       "               YEAR           AGE      NETWORTH\n",
       "count  35245.000000  35245.000000  3.524500e+04\n",
       "mean    1990.662363     50.470279  5.843459e+06\n",
       "std        1.491208     16.427610  3.499148e+07\n",
       "min     1989.000000     18.000000 -3.965421e+07\n",
       "25%     1989.000000     37.000000  3.417866e+04\n",
       "50%     1992.000000     49.000000  2.104130e+05\n",
       "75%     1992.000000     63.000000  1.280911e+06\n",
       "max     1992.000000     95.000000  2.928346e+09"
      ]
     },
     "execution_count": 9,
     "metadata": {},
     "output_type": "execute_result"
    },
    {
     "data": {
      "image/png": "[encoded data removed]",
      "text/plain": [
       "<Figure size 432x288 with 1 Axes>"
      ]
     },
     "metadata": {
      "needs_background": "light"
     },
     "output_type": "display_data"
    }
   ],
   "source": [
    "x = 'AGE'\n",
    "y = 'NETWORTH'\n",
    "plt.scatter(x = after_50_before_60_df[x], y = after_50_before_60_df[y])\n",
    "plt.xlabel('age')\n",
    "plt.ylabel('networth')\n",
    "plt.title('age by networth')\n",
    "after_50_before_60_df.describe()\n",
    "#scatter graph per year"
   ]
  },
  {
   "cell_type": "code",
   "execution_count": 10,
   "id": "fe8aca38",
   "metadata": {},
   "outputs": [
    {
     "name": "stdout",
     "output_type": "stream",
     "text": [
      "   Year    std\n",
      "0  1992  3.500\n",
      "1  1998  3.800\n",
      "2  2004  4.700\n",
      "3  2010  5.500\n",
      "4  2016  6.188\n"
     ]
    },
    {
     "data": {
      "image/png": "[encoded data removed]",
      "text/plain": [
       "<Figure size 432x288 with 1 Axes>"
      ]
     },
     "metadata": {
      "needs_background": "light"
     },
     "output_type": "display_data"
    },
    {
     "data": {
      "image/png": "[encoded data removed]",
      "text/plain": [
       "<Figure size 432x288 with 1 Axes>"
      ]
     },
     "metadata": {
      "needs_background": "light"
     },
     "output_type": "display_data"
    },
    {
     "name": "stdout",
     "output_type": "stream",
     "text": [
      "The parameters of the curve: [ 1.17933333e-01 -2.31600800e+02]\n"
     ]
    },
    {
     "data": {
      "text/plain": [
       "[<matplotlib.lines.Line2D at 0x7fa787abddf0>]"
      ]
     },
     "execution_count": 10,
     "metadata": {},
     "output_type": "execute_result"
    },
    {
     "data": {
      "image/png": "[encoded data removed]",
      "text/plain": [
       "<Figure size 432x288 with 1 Axes>"
      ]
     },
     "metadata": {
      "needs_background": "light"
     },
     "output_type": "display_data"
    }
   ],
   "source": [
    "Year = [1992, 1998, 2004, 2010, 2016]\n",
    "std = [3.5, 3.8, 4.7, 5.5, 6.188]\n",
    "df = pd.DataFrame(list(zip(Year, std)),\n",
    "               columns =['Year', 'std'])\n",
    "print(df)\n",
    "df.plot(kind='scatter', y='std', x='Year')\n",
    "df.plot(kind='line', y='std', x='Year')\n",
    "plt.xlabel('Year')\n",
    "plt.ylabel('')\n",
    "plt.show()\n",
    "X = df['Year']\n",
    "y = df['std']\n",
    "\n",
    "\n",
    "theta = np.polyfit(X, y, 1)\n",
    "\n",
    "print(f'The parameters of the curve: {theta}')\n",
    "\n",
    "\n",
    "y_line=theta[1] + theta[0] * X\n",
    "\n",
    "plt.scatter(X, y)\n",
    "plt.plot(X, y_line, 'r')\n",
    "#graphs to show standard deviation of wealth inequality over the years"
   ]
  },
  {
   "cell_type": "code",
   "execution_count": null,
   "id": "04de325c",
   "metadata": {},
   "outputs": [],
   "source": []
  }
 ],
 "metadata": {
  "kernelspec": {
   "display_name": "Python 3 (ipykernel)",
   "language": "python",
   "name": "python3"
  },
  "language_info": {
   "codemirror_mode": {
    "name": "ipython",
    "version": 3
   },
   "file_extension": ".py",
   "mimetype": "text/x-python",
   "name": "python",
   "nbconvert_exporter": "python",
   "pygments_lexer": "ipython3",
   "version": "3.9.12"
  }
 },
 "nbformat": 4,
 "nbformat_minor": 5
}
