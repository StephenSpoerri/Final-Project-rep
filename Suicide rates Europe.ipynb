{
 "cells": [
  {
   "cell_type": "code",
   "execution_count": 1,
   "id": "09909d35",
   "metadata": {},
   "outputs": [
    {
     "ename": "SyntaxError",
     "evalue": "EOF while scanning triple-quoted string literal (949360791.py, line 38)",
     "output_type": "error",
     "traceback": [
      "\u001b[0;36m  Input \u001b[0;32mIn [1]\u001b[0;36m\u001b[0m\n\u001b[0;31m    Youth turn out - 75\u001b[0m\n\u001b[0m                       \n^\u001b[0m\n\u001b[0;31mSyntaxError\u001b[0m\u001b[0;31m:\u001b[0m EOF while scanning triple-quoted string literal\n"
     ]
    }
   ],
   "source": [
    "'''https://data.ipu.org/content/portugal?chamber_id=13497\n",
    "https://data.worldbank.org/indicator/SH.STA.SUIC.P5?locations=AT\n",
    "https://national-policies.eacea.ec.europa.eu/youthwiki/chapters/austria/52-youth-participation-in-representative-democracy \n",
    "\n",
    "UK\n",
    "Age - 51 commons, 71 lords\n",
    "Suicide rate - 11.2 \n",
    "Youth turnout rate - 47%\n",
    "\n",
    "France\n",
    "Age - 53 National Assembly \n",
    "Suicide rate 12.1\n",
    "Youth turnout - 41%\n",
    "\n",
    "Germany\n",
    "Age - 46 Bundestag\n",
    "Suicide rate - 8.3\n",
    "Youth turnout - 68.8%\n",
    "\n",
    "Poland \n",
    "Age - 55\n",
    "Suicide rate - 13.6\n",
    "Youth turnout - 40\n",
    "\n",
    "Spain \n",
    "Age - 47\n",
    "Suicide - 8.3 \n",
    "Youth turn out - 65\n",
    "\n",
    "Portugal \n",
    "Age - 49\n",
    "Suicide rate - 7.22 \n",
    "Youth turn out - 30\n",
    "\n",
    "Netherlands (suicide rate possibly high because of high marijuana usage) \n",
    "Age - 43.71\n",
    "Suicide rate - 10.5 \n",
    "Youth turn out - 75"
   ]
  },
  {
   "cell_type": "code",
   "execution_count": 2,
   "id": "f79fe13a",
   "metadata": {},
   "outputs": [],
   "source": [
    "import matplotlib.pyplot as plt\n",
    "import numpy as np\n",
    "import pandas as pd \n",
    "import matplotlib\n",
    "#import stuff"
   ]
  },
  {
   "cell_type": "code",
   "execution_count": null,
   "id": "fe779347",
   "metadata": {},
   "outputs": [],
   "source": []
  }
 ],
 "metadata": {
  "kernelspec": {
   "display_name": "Python 3 (ipykernel)",
   "language": "python",
   "name": "python3"
  },
  "language_info": {
   "codemirror_mode": {
    "name": "ipython",
    "version": 3
   },
   "file_extension": ".py",
   "mimetype": "text/x-python",
   "name": "python",
   "nbconvert_exporter": "python",
   "pygments_lexer": "ipython3",
   "version": "3.9.12"
  }
 },
 "nbformat": 4,
 "nbformat_minor": 5
}
